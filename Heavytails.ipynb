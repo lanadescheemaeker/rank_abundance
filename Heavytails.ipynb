{
 "cells": [
  {
   "cell_type": "code",
   "execution_count": 58,
   "metadata": {
    "ExecuteTime": {
     "end_time": "2020-07-28T19:22:22.140924Z",
     "start_time": "2020-07-28T19:22:21.990999Z"
    }
   },
   "outputs": [],
   "source": [
    "import numpy as np\n",
    "from scipy import stats\n",
    "import matplotlib.pyplot as plt\n",
    "from matplotlib import gridspec\n",
    "\n",
    "from scipy import stats\n",
    "\n",
    "from kaobook_settings import KAOBOOK, set_kaobook_settings\n",
    "\n",
    "set_kaobook_settings()"
   ]
  },
  {
   "cell_type": "code",
   "execution_count": 74,
   "metadata": {
    "ExecuteTime": {
     "end_time": "2020-07-28T19:29:43.236496Z",
     "start_time": "2020-07-28T19:29:42.439300Z"
    }
   },
   "outputs": [
    {
     "name": "stderr",
     "output_type": "stream",
     "text": [
      "/opt/anaconda3/lib/python3.7/site-packages/ipykernel_launcher.py:31: UserWarning: This figure includes Axes that are not compatible with tight_layout, so results might be incorrect.\n",
      "/opt/anaconda3/lib/python3.7/site-packages/ipykernel_launcher.py:31: UserWarning: This figure includes Axes that are not compatible with tight_layout, so results might be incorrect.\n",
      "/opt/anaconda3/lib/python3.7/site-packages/IPython/core/pylabtools.py:132: UserWarning: This figure includes Axes that are not compatible with tight_layout, so results might be incorrect.\n",
      "  fig.canvas.print_figure(bytes_io, **kw)\n"
     ]
    },
    {
     "data": {
      "image/png": "[encoded data removed]",
      "text/plain": [
       "<Figure size 113.386x216 with 3 Axes>"
      ]
     },
     "metadata": {
      "needs_background": "light"
     },
     "output_type": "display_data"
    }
   ],
   "source": [
    "fig = plt.figure(figsize=(KAOBOOK.MARGINWIDTH,3), tight_layout=True)\n",
    "gs = gridspec.GridSpec(3,1, height_ratios=[1,1.5,1],left=0.3, top=0.95, right=0.95, bottom=0.05, hspace=0.1)\n",
    "\n",
    "ax = fig.add_subplot(gs[0])\n",
    "ax.set_ylabel('PDF')\n",
    "x = np.logspace(-1,2,200) #np.logspace(-3,3,200)\n",
    "ax.plot(x, stats.expon.pdf(x), label='expon', linestyle='-')\n",
    "ax.plot(x, stats.pareto.pdf(x,1), label='pareto', linestyle=':')\n",
    "ax.plot(x, stats.lognorm.pdf(x,1), label='lognorm', linestyle='-.')\n",
    "#plt.plot(x, stats.norm.pdf(x,1,0.1), label='norm')\n",
    "ax.set_yscale('log')\n",
    "ax.tick_params(labelbottom=False)\n",
    "ax.set_xscale('log')\n",
    "ax.set_ylim([1e-5,10])\n",
    "\n",
    "ax = fig.add_subplot(gs[1], sharex=ax)\n",
    "ax.set_ylabel('Complementary CDF')\n",
    "ax.plot(x, 1-stats.expon.cdf(x), label='exponential', linestyle='-')\n",
    "ax.plot(x, 1-stats.pareto.cdf(x, 1), label='Pareto', linestyle=':')\n",
    "ax.plot(x, 1-stats.lognorm.cdf(x,1), label='lognorm', linestyle='-.')\n",
    "#plt.plot(x, 1-stats.norm.cdf(x,1,0.1), label='norm')\n",
    "ax.set_ylim([1e-5,1.5])\n",
    "ax.set_yscale('log')\n",
    "\n",
    "handles, labels = ax.get_legend_handles_labels()\n",
    "ax = fig.add_subplot(gs[2])\n",
    "ax.axis('off')\n",
    "ax.legend(handles, labels, loc=4)\n",
    "\n",
    "#plt.xscale('log')\n",
    "plt.savefig('figures_app/heavytails.pdf')\n",
    "plt.show()"
   ]
  },
  {
   "cell_type": "code",
   "execution_count": 99,
   "metadata": {
    "ExecuteTime": {
     "end_time": "2020-07-28T19:51:07.550077Z",
     "start_time": "2020-07-28T19:51:06.905219Z"
    }
   },
   "outputs": [
    {
     "name": "stderr",
     "output_type": "stream",
     "text": [
      "/opt/anaconda3/lib/python3.7/site-packages/ipykernel_launcher.py:23: UserWarning: This figure includes Axes that are not compatible with tight_layout, so results might be incorrect.\n",
      "/opt/anaconda3/lib/python3.7/site-packages/ipykernel_launcher.py:23: UserWarning: This figure includes Axes that are not compatible with tight_layout, so results might be incorrect.\n",
      "/opt/anaconda3/lib/python3.7/site-packages/IPython/core/pylabtools.py:132: UserWarning: This figure includes Axes that are not compatible with tight_layout, so results might be incorrect.\n",
      "  fig.canvas.print_figure(bytes_io, **kw)\n"
     ]
    },
    {
     "data": {
      "image/png": "[encoded data removed]",
      "text/plain": [
       "<Figure size 113.386x180 with 3 Axes>"
      ]
     },
     "metadata": {
      "needs_background": "light"
     },
     "output_type": "display_data"
    }
   ],
   "source": [
    "fig = plt.figure(figsize=(KAOBOOK.MARGINWIDTH,2.5), tight_layout=True)\n",
    "gs = gridspec.GridSpec(2,1, hspace=0.3,left=0.3, right=0.95)\n",
    "gst = gridspec.GridSpec(1,1, left=0.12)\n",
    "\n",
    "ax = fig.add_subplot(gs[0])\n",
    "x = np.linspace(0,10,200) #np.logspace(-3,3,200)\n",
    "ax.plot(x, stats.expon.pdf(x), label='expon', linestyle='-', color='grey')\n",
    "#ax.tick_params(labelbottom=False)\n",
    "\n",
    "ax = fig.add_subplot(gs[1])\n",
    "x = np.logspace(-1,1.1,200) #np.logspace(-3,3,200)\n",
    "ax.plot(x, stats.expon.pdf(x), label='expon', linestyle='-', color='grey')\n",
    "ax.set_xticklabels([])\n",
    "ax.set_xscale('log')\n",
    "ax.set_yscale('log')\n",
    "ax.set_ylim([1e-2,2])\n",
    "\n",
    "ax = fig.add_subplot(gst[:], frameon=False)\n",
    "ax.set_ylabel('Probability density function')\n",
    "ax.set_yticks([])\n",
    "ax.set_xticks([])\n",
    "    \n",
    "plt.savefig('figures_app/exponential.pdf')\n",
    "plt.show()"
   ]
  },
  {
   "cell_type": "code",
   "execution_count": 98,
   "metadata": {
    "ExecuteTime": {
     "end_time": "2020-07-28T19:51:00.729767Z",
     "start_time": "2020-07-28T19:51:00.146699Z"
    }
   },
   "outputs": [
    {
     "name": "stderr",
     "output_type": "stream",
     "text": [
      "/opt/anaconda3/lib/python3.7/site-packages/ipykernel_launcher.py:23: UserWarning: This figure includes Axes that are not compatible with tight_layout, so results might be incorrect.\n",
      "/opt/anaconda3/lib/python3.7/site-packages/ipykernel_launcher.py:23: UserWarning: This figure includes Axes that are not compatible with tight_layout, so results might be incorrect.\n",
      "/opt/anaconda3/lib/python3.7/site-packages/IPython/core/pylabtools.py:132: UserWarning: This figure includes Axes that are not compatible with tight_layout, so results might be incorrect.\n",
      "  fig.canvas.print_figure(bytes_io, **kw)\n"
     ]
    },
    {
     "data": {
      "image/png": "[encoded data removed]",
      "text/plain": [
       "<Figure size 113.386x180 with 3 Axes>"
      ]
     },
     "metadata": {
      "needs_background": "light"
     },
     "output_type": "display_data"
    }
   ],
   "source": [
    "fig = plt.figure(figsize=(KAOBOOK.MARGINWIDTH,2.5), tight_layout=True)\n",
    "gs = gridspec.GridSpec(2,1, hspace=0.3,left=0.3, right=0.95)\n",
    "gst = gridspec.GridSpec(1,1, left=0.12)\n",
    "\n",
    "ax = fig.add_subplot(gs[0])\n",
    "x = np.linspace(0,10,200) #np.logspace(-3,3,200)\n",
    "ax.plot(x, stats.pareto.pdf(x,1), label='expon', linestyle='-', color='grey')\n",
    "#ax.tick_params(labelbottom=False)\n",
    "\n",
    "ax = fig.add_subplot(gs[1])\n",
    "x = np.logspace(-1,1.1,200) #np.logspace(-3,3,200)\n",
    "ax.plot(x, stats.pareto.pdf(x,1), label='expon', linestyle='-', color='grey')\n",
    "ax.set_xticklabels([])\n",
    "ax.set_xscale('log')\n",
    "ax.set_yscale('log')\n",
    "ax.set_ylim([1e-2,2])\n",
    "\n",
    "ax = fig.add_subplot(gst[:], frameon=False)\n",
    "ax.set_ylabel('Probability density function')\n",
    "ax.set_yticks([])\n",
    "ax.set_xticks([])\n",
    "    \n",
    "plt.savefig('figures_app/pareto.pdf')\n",
    "plt.show()"
   ]
  },
  {
   "cell_type": "code",
   "execution_count": 97,
   "metadata": {
    "ExecuteTime": {
     "end_time": "2020-07-28T19:50:53.075992Z",
     "start_time": "2020-07-28T19:50:52.508244Z"
    }
   },
   "outputs": [
    {
     "name": "stderr",
     "output_type": "stream",
     "text": [
      "/opt/anaconda3/lib/python3.7/site-packages/ipykernel_launcher.py:23: UserWarning: This figure includes Axes that are not compatible with tight_layout, so results might be incorrect.\n",
      "/opt/anaconda3/lib/python3.7/site-packages/ipykernel_launcher.py:23: UserWarning: This figure includes Axes that are not compatible with tight_layout, so results might be incorrect.\n",
      "/opt/anaconda3/lib/python3.7/site-packages/IPython/core/pylabtools.py:132: UserWarning: This figure includes Axes that are not compatible with tight_layout, so results might be incorrect.\n",
      "  fig.canvas.print_figure(bytes_io, **kw)\n"
     ]
    },
    {
     "data": {
      "image/png": "[encoded data removed]",
      "text/plain": [
       "<Figure size 113.386x180 with 3 Axes>"
      ]
     },
     "metadata": {
      "needs_background": "light"
     },
     "output_type": "display_data"
    }
   ],
   "source": [
    "fig = plt.figure(figsize=(KAOBOOK.MARGINWIDTH,2.5), tight_layout=True)\n",
    "gs = gridspec.GridSpec(2,1, hspace=0.3,left=0.3, right=0.95)\n",
    "gst = gridspec.GridSpec(1,1, left=0.12)\n",
    "\n",
    "ax = fig.add_subplot(gs[0])\n",
    "x = np.linspace(0,3,200) #np.logspace(-3,3,200)\n",
    "ax.plot(x, stats.lognorm.pdf(x,1), label='expon', linestyle='-', color='grey')\n",
    "#ax.tick_params(labelbottom=False)\n",
    "\n",
    "ax = fig.add_subplot(gs[1])\n",
    "x = np.logspace(-1,1.1,200) #np.logspace(-3,3,200)\n",
    "ax.plot(x, stats.lognorm.pdf(x,1), label='expon', linestyle='-', color='grey')\n",
    "ax.set_xticklabels([])\n",
    "ax.set_xscale('log')\n",
    "ax.set_yscale('log')\n",
    "ax.set_ylim([1e-2,2])\n",
    "\n",
    "ax = fig.add_subplot(gst[:], frameon=False)\n",
    "ax.set_ylabel('Probability density function')\n",
    "ax.set_yticks([])\n",
    "ax.set_xticks([])\n",
    "    \n",
    "plt.savefig('figures_app/lognorm.pdf')\n",
    "plt.show()"
   ]
  },
  {
   "cell_type": "code",
   "execution_count": 57,
   "metadata": {
    "ExecuteTime": {
     "end_time": "2020-07-28T13:26:21.162363Z",
     "start_time": "2020-07-28T13:26:20.594767Z"
    }
   },
   "outputs": [
    {
     "name": "stderr",
     "output_type": "stream",
     "text": [
      "No handles with labels found to put in legend.\n"
     ]
    },
    {
     "data": {
      "image/png": "[encoded data removed]",
      "text/plain": [
       "<Figure size 144x288 with 2 Axes>"
      ]
     },
     "metadata": {
      "needs_background": "light"
     },
     "output_type": "display_data"
    }
   ],
   "source": [
    "fig = plt.figure(figsize=(2,4), tight_layout=True)\n",
    "gs = gridspec.GridSpec(2,1)\n",
    "\n",
    "alpha = 1.5\n",
    "y = stats.pareto.rvs(alpha, loc=0, size=10000)\n",
    "\n",
    "ax = fig.add_subplot(gs[0])\n",
    "ax.set_ylabel('Probability distribution')\n",
    "x = np.logspace(-1,2,200) #np.logspace(-3,3,200)\n",
    "bins = np.logspace(np.log10(np.min(y)), np.log10(np.max(y)), 11)\n",
    "ax.hist(y, bins=bins, density=True)\n",
    "ax.plot(x, stats.pareto.pdf(x,alpha))\n",
    "#plt.plot(x, stats.norm.pdf(x,1,0.1), label='norm')\n",
    "ax.set_yscale('log')\n",
    "ax.set_xscale('log')\n",
    "ax.set_ylim([1e-5,10])\n",
    "\n",
    "ax = fig.add_subplot(gs[1])\n",
    "ax.set_ylabel('Abundance')\n",
    "xx = np.arange(1,len(y)+1)\n",
    "ax.scatter(xx, np.sort(y)[::-1])\n",
    "ax.plot(xx, 100*xx**(-1.))\n",
    "\n",
    "ax.set_yscale('log')\n",
    "ax.set_xscale('log')\n",
    "        \n",
    "ax.legend()\n",
    "#plt.plot(x, 1-stats.norm.cdf(x,1,0.1), label='norm')\n",
    "ax.set_yscale('log')\n",
    "#plt.savefig('figures/zipf.pdf')\n",
    "plt.show()"
   ]
  },
  {
   "cell_type": "code",
   "execution_count": null,
   "metadata": {},
   "outputs": [],
   "source": []
  }
 ],
 "metadata": {
  "hide_input": false,
  "kernelspec": {
   "display_name": "Python 3",
   "language": "python",
   "name": "python3"
  },
  "language_info": {
   "codemirror_mode": {
    "name": "ipython",
    "version": 3
   },
   "file_extension": ".py",
   "mimetype": "text/x-python",
   "name": "python",
   "nbconvert_exporter": "python",
   "pygments_lexer": "ipython3",
   "version": "3.7.6"
  },
  "toc": {
   "base_numbering": 1,
   "nav_menu": {},
   "number_sections": true,
   "sideBar": true,
   "skip_h1_title": false,
   "title_cell": "Table of Contents",
   "title_sidebar": "Contents",
   "toc_cell": false,
   "toc_position": {},
   "toc_section_display": true,
   "toc_window_display": false
  }
 },
 "nbformat": 4,
 "nbformat_minor": 4
}
